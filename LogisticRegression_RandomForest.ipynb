{
  "cells": [
    {
      "cell_type": "markdown",
      "metadata": {
        "id": "view-in-github",
        "colab_type": "text"
      },
      "source": [
        "<a href=\"https://colab.research.google.com/github/siddharth2011/xBC/blob/main/LogisticRegression_RandomForest.ipynb\" target=\"_parent\"><img src=\"https://colab.research.google.com/assets/colab-badge.svg\" alt=\"Open In Colab\"/></a>"
      ]
    },
    {
      "cell_type": "markdown",
      "metadata": {
        "id": "dfboFz8mhKgg"
      },
      "source": [
        "# Logistic Regression"
      ]
    },
    {
      "cell_type": "code",
      "execution_count": null,
      "metadata": {
        "id": "YCasbmPsS4kY"
      },
      "outputs": [],
      "source": [
        "import pandas as pd\n",
        "import numpy as np\n",
        "\n",
        "from sklearn.linear_model import LogisticRegression\n",
        "from sklearn.model_selection import train_test_split\n",
        "from sklearn.preprocessing import StandardScaler\n",
        "from sklearn.metrics import accuracy_score, f1_score, recall_score, precision_score\n",
        "\n",
        "import matplotlib.pyplot as plt\n",
        "from sklearn.metrics import confusion_matrix"
      ]
    },
    {
      "cell_type": "code",
      "execution_count": null,
      "metadata": {
        "id": "bczPiCDxS7ZG"
      },
      "outputs": [],
      "source": [
        "dataset_path = \"/content/drive/Othercomputers/My Laptop/D:/ASU/SML/projects/dataset_breastcancer/data.csv\"\n",
        "df = pd.read_csv(dataset_path)\n",
        "\n",
        "nametoberemoved = ['id', 'Unnamed: 32']\n",
        "for name in nametoberemoved:\n",
        "    df = df.drop(name, axis=1)\n",
        "\n",
        "# Update with your own label mappings\n",
        "label_map = {'M': 0, 'B': 1}  \n",
        "df['diagnosis'] = df['diagnosis'].map(label_map)"
      ]
    },
    {
      "cell_type": "code",
      "execution_count": null,
      "metadata": {
        "id": "-sO6_TbVR2uu"
      },
      "outputs": [],
      "source": [
        "X = df.iloc[:, 1:]  \n",
        "y = df.iloc[:, 0]  \n",
        "\n",
        "# Split the data into training and testing sets\n",
        "X_train, X_test, y_train, y_test = train_test_split(X, y, test_size=0.2, random_state=42)\n",
        "\n",
        "# Scale the features\n",
        "scaler = StandardScaler()\n",
        "X_train_scaled = scaler.fit_transform(X_train)\n",
        "X_test_scaled = scaler.transform(X_test)\n",
        "\n",
        "# Initialize the logistic regression model\n",
        "clf = LogisticRegression(solver='liblinear', max_iter=1000)"
      ]
    },
    {
      "cell_type": "code",
      "execution_count": null,
      "metadata": {
        "id": "-Q4CTEoVR6tl"
      },
      "outputs": [],
      "source": [
        "# Train the model\n",
        "clf.fit(X_train_scaled, y_train)\n",
        "\n",
        "# Make predictions on the test set\n",
        "y_pred = clf.predict(X_test_scaled)"
      ]
    },
    {
      "cell_type": "code",
      "execution_count": null,
      "metadata": {
        "colab": {
          "base_uri": "https://localhost:8080/"
        },
        "id": "R2y3gYnVR5Il",
        "outputId": "86be9c9e-0f2c-4160-882f-8b5c57bad352"
      },
      "outputs": [
        {
          "output_type": "stream",
          "name": "stdout",
          "text": [
            "F1 score: 0.979020979020979\n",
            "Recall: 0.9859154929577465\n",
            "Precision: 0.9722222222222222\n",
            "Accuracy: 0.9736842105263158\n"
          ]
        }
      ],
      "source": [
        "accuracy = accuracy_score(y_test, y_pred)\n",
        "f1 = f1_score(y_test, y_pred)\n",
        "recall = recall_score(y_test, y_pred)\n",
        "precision = precision_score(y_test, y_pred)\n",
        "\n",
        "print(\"F1 score:\", f1)\n",
        "print(\"Recall:\", recall)\n",
        "print(\"Precision:\", precision)\n",
        "print(\"Accuracy:\", accuracy)"
      ]
    },
    {
      "cell_type": "markdown",
      "metadata": {
        "id": "hDxS27N_isqk"
      },
      "source": [
        "# Random Forest"
      ]
    },
    {
      "cell_type": "code",
      "execution_count": null,
      "metadata": {
        "id": "czWT3HNAizQY"
      },
      "outputs": [],
      "source": [
        "import pandas as pd\n",
        "import numpy as np\n",
        "\n",
        "from sklearn.ensemble import RandomForestClassifier\n",
        "from sklearn.model_selection import train_test_split\n",
        "from sklearn.preprocessing import StandardScaler\n",
        "from sklearn.metrics import accuracy_score, f1_score, recall_score, precision_score\n",
        "\n",
        "# Load the dataset\n",
        "dataset_path = \"/content/drive/Othercomputers/My Laptop/D:/ASU/SML/projects/dataset_breastcancer/data.csv\"\n",
        "df = pd.read_csv(dataset_path)\n",
        "\n",
        "nametoberemoved = ['id', 'Unnamed: 32']\n",
        "for name in nametoberemoved:\n",
        "    df = df.drop(name, axis=1)\n",
        "\n",
        "# Update with your own label mappings\n",
        "label_map = {'M': 0, 'B': 1}\n",
        "df['diagnosis'] = df['diagnosis'].map(label_map)\n",
        "\n"
      ]
    },
    {
      "cell_type": "code",
      "execution_count": null,
      "metadata": {
        "id": "96KhfIJKi7tq"
      },
      "outputs": [],
      "source": [
        "X = df.iloc[:, 1:]  \n",
        "y = df.iloc[:, 0] \n",
        "\n",
        "# Split the data into training and testing sets\n",
        "X_train, X_test, y_train, y_test = train_test_split(X, y, test_size=0.2, random_state=42)\n",
        "\n",
        "# Scale the features\n",
        "scaler = StandardScaler()\n",
        "X_train_scaled = scaler.fit_transform(X_train)\n",
        "X_test_scaled = scaler.transform(X_test)\n",
        "\n",
        "# Initialize the Random Forest Classifier\n",
        "clf = RandomForestClassifier(n_estimators=100, random_state=42)\n"
      ]
    },
    {
      "cell_type": "code",
      "execution_count": null,
      "metadata": {
        "id": "QNiS4rG3jPBk"
      },
      "outputs": [],
      "source": [
        "# Train the model\n",
        "clf.fit(X_train_scaled, y_train)\n",
        "\n",
        "# Make predictions on the test set\n",
        "y_pred = clf.predict(X_test_scaled)"
      ]
    },
    {
      "cell_type": "code",
      "execution_count": null,
      "metadata": {
        "colab": {
          "base_uri": "https://localhost:8080/"
        },
        "id": "mCI9IaGUjS6e",
        "outputId": "99b405e5-6af2-4556-fce0-fabd0db9ad00"
      },
      "outputs": [
        {
          "output_type": "stream",
          "name": "stdout",
          "text": [
            "F1 score: 0.9722222222222222\n",
            "Recall: 0.9859154929577465\n",
            "Precision: 0.958904109589041\n",
            "Accuracy: 0.9649122807017544\n"
          ]
        }
      ],
      "source": [
        "accuracy = accuracy_score(y_test, y_pred)\n",
        "f1 = f1_score(y_test, y_pred)\n",
        "recall = recall_score(y_test, y_pred)\n",
        "precision = precision_score(y_test, y_pred)\n",
        "\n",
        "print(\"F1 score:\", f1)\n",
        "print(\"Recall:\", recall)\n",
        "print(\"Precision:\", precision)\n",
        "print(\"Accuracy:\", accuracy)"
      ]
    },
    {
      "cell_type": "code",
      "execution_count": null,
      "metadata": {
        "id": "Q4KmM5RgjWT9"
      },
      "outputs": [],
      "source": []
    }
  ],
  "metadata": {
    "accelerator": "GPU",
    "colab": {
      "provenance": [],
      "mount_file_id": "1YTrAvNqaau8heiMfpEx6p9vt7nScjywZ",
      "authorship_tag": "ABX9TyMfsM/L2dH03StoNKGOFoX5",
      "include_colab_link": true
    },
    "gpuClass": "standard",
    "kernelspec": {
      "display_name": "Python 3",
      "name": "python3"
    },
    "language_info": {
      "name": "python"
    }
  },
  "nbformat": 4,
  "nbformat_minor": 0
}